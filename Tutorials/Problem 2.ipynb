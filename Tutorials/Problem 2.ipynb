{
 "cells": [
  {
   "cell_type": "markdown",
   "metadata": {},
   "source": [
    "# Problem 2a"
   ]
  },
  {
   "cell_type": "code",
   "execution_count": 1,
   "metadata": {
    "collapsed": true
   },
   "outputs": [],
   "source": [
    "import numpy as np\n",
    "import pandas as pd\n",
    "from pandas import DataFrame, Series\n",
    "from matplotlib import pyplot as plt\n",
    "import scipy.stats as sts\n",
    "\n",
    "macro = np.loadtxt(\"/Users/benjaminlim/Documents/BootCamp2017/Labs/Econ/Week 4/MacroSeries.txt\", delimiter = \",\")\n",
    "w = macro[:, 2]\n",
    "k = macro[:, 1]\n",
    "r = macro[:, 3]"
   ]
  },
  {
   "cell_type": "code",
   "execution_count": 2,
   "metadata": {},
   "outputs": [],
   "source": [
    "#normal pdf for random variable z\n",
    "def truncnorm_pdf(w, k, alpha, rho, mu, sigma):\n",
    "    z = np.log(w/((k**alpha)*(1-alpha)))\n",
    "    zprime = np.append([mu],z)\n",
    "    zprime = zprime[:-1]\n",
    "\n",
    "    mean = rho*zprime + (1-rho)*mu\n",
    "    pdf_vals = (1/(sigma * np.sqrt(2 * np.pi)) *\n",
    "                    np.exp( - (z - mean)**2 / (2 * sigma**2)))\n",
    "    pdf_vals[np.isclose(pdf_vals, np.zeros_like(pdf_vals), atol = 1e-25)] = 1e-10   \n",
    "    \n",
    "    return pdf_vals\n"
   ]
  },
  {
   "cell_type": "code",
   "execution_count": 3,
   "metadata": {},
   "outputs": [
    {
     "name": "stdout",
     "output_type": "stream",
     "text": [
      "      fun: nan\n",
      " hess_inv: <4x4 LbfgsInvHessProduct with dtype=float64>\n",
      "      jac: array([ -64.36447393,  -48.63022269,   -4.76729696,  101.74071292])\n",
      "  message: b'ABNORMAL_TERMINATION_IN_LNSRCH'\n",
      "     nfev: 210\n",
      "      nit: 1\n",
      "   status: 2\n",
      "  success: False\n",
      "        x: array([ 0.56326554,  0.91265311,  5.98986224,  0.87346891])\n",
      "alpha_hat:  0.563265542894 rho_hat:  0.912653108569 mu_hat 5.98986224004 sigma_hat 0.873468914199\n",
      "Log=likelihood:  -83.9319022301\n"
     ]
    },
    {
     "name": "stderr",
     "output_type": "stream",
     "text": [
      "/Users/benjaminlim/anaconda/lib/python3.6/site-packages/ipykernel_launcher.py:3: RuntimeWarning: invalid value encountered in log\n",
      "  This is separate from the ipykernel package so we can avoid doing imports until\n"
     ]
    }
   ],
   "source": [
    "def log_lik_trnorm(w, k, alpha, rho, mu, sigma):\n",
    "\n",
    "    pdf_vals = truncnorm_pdf(w, k, alpha, rho, mu, sigma)\n",
    "    pdf_vals[np.isclose(pdf_vals, np.zeros_like(pdf_vals), atol = 1e-25)] = 1e-10\n",
    "    ln_pdf_vals = np.log(pdf_vals)\n",
    "    log_lik_val = ln_pdf_vals.sum()\n",
    "    \n",
    "    return log_lik_val\n",
    "\n",
    "def crit(params, w, k):\n",
    "\n",
    "    alpha, rho, mu, sigma = params\n",
    "    log_lik_val = log_lik_trnorm(w, k, alpha, rho, mu, sigma)\n",
    "    neg_log_lik_val = -log_lik_val\n",
    "    \n",
    "    return neg_log_lik_val\n",
    "\n",
    "import scipy.optimize as opt\n",
    "\n",
    "alpha_init = 0.5\n",
    "rho_init = 0.9\n",
    "mu_init = 5\n",
    "sigma_init = 1\n",
    "params_init = np.array([alpha_init, rho_init, mu_init, sigma_init])\n",
    "mle_args = (w, k)\n",
    "results = opt.minimize(crit, params_init, args=(mle_args), method='L-BFGS-B', bounds=((1e-10, 1-1e-10),(1e-10-1, 1-1e-10),\n",
    "                               (1e-10, None), (1e-10, None)))\n",
    "alpha_hat, rho_hat, mu_hat, sigma_hat = results.x\n",
    "print(results)\n",
    "print(\"alpha_hat: \", alpha_hat, \"rho_hat: \", rho_hat, \"mu_hat\", mu_hat, \"sigma_hat\", sigma_hat)\n",
    "print(\"Log=likelihood: \", log_lik_trnorm(w, k, alpha_hat, rho_hat, mu_hat, sigma_hat))"
   ]
  },
  {
   "cell_type": "markdown",
   "metadata": {},
   "source": [
    "# Problem 2b"
   ]
  },
  {
   "cell_type": "code",
   "execution_count": 5,
   "metadata": {},
   "outputs": [
    {
     "name": "stdout",
     "output_type": "stream",
     "text": [
      "alpha_hat:  0.457500784381 rho_hat:  0.72050253195 mu_hat 9.37057284326 sigma_hat 0.0919961812852\n",
      "Log-likelihood:  96.7069080537\n"
     ]
    }
   ],
   "source": [
    "#normal pdf for random variable z\n",
    "\n",
    "def truncnorm_pdf2(r, k, alpha, rho, mu, sigma):\n",
    "    denom = alpha * (k ** (alpha - 1))\n",
    "    z = np.log(r / denom)    \n",
    "    zprime = np.append([mu],z)\n",
    "    zprime = zprime[:-1]\n",
    "\n",
    "    mean = rho*zprime + (1-rho)*mu\n",
    "    pdf_vals = (1/(sigma * np.sqrt(2 * np.pi)) *\n",
    "                    np.exp( - (z - mean)**2 / (2 * sigma**2)))\n",
    "    pdf_vals[np.isclose(pdf_vals, np.zeros_like(pdf_vals), atol = 1e-25)] = 1e-10    \n",
    "    return pdf_vals\n",
    "\n",
    "def log_lik_trnorm2(r, k, alpha, rho, mu, sigma):\n",
    "    pdf_vals = truncnorm_pdf2(r, k, alpha, rho, mu, sigma)\n",
    "    pdf_vals[np.isclose(pdf_vals, np.zeros_like(pdf_vals), atol = 1e-25)] = 1e-10   \n",
    "    ln_pdf_vals =   np.log(pdf_vals, where=(pdf_vals>0))\n",
    "    log_lik_val = ln_pdf_vals.sum()\n",
    "    \n",
    "    return log_lik_val\n",
    "\n",
    "def crit2(params, *args):\n",
    "    alpha, rho, mu, sigma = params\n",
    "    r, k = args\n",
    "    log_lik_val = log_lik_trnorm2(r, k, alpha, rho, mu, sigma)\n",
    "    return -log_lik_val\n",
    "\n",
    "alpha_init = 0.5\n",
    "rho_init = 0.9\n",
    "mu_init = 5\n",
    "sigma_init = 1\n",
    "params_init = np.array([alpha_init, rho_init, mu_init, sigma_init])\n",
    "mle_args_2 = (r, k)\n",
    "results2 = opt.minimize(crit2, params_init, args=(mle_args_2), method='L-BFGS-B',\n",
    "                       bounds=((1e-10, 1-1e-10),(1e-10-1, 1-1e-10),\n",
    "                               (1e-10, None), (1e-10, None)))\n",
    "\n",
    "alpha_hat_2, rho_hat_2, mu_hat_2, sigma_hat_2 = results2.x\n",
    "print(\"alpha_hat: \", alpha_hat_2, \"rho_hat: \", rho_hat_2, \"mu_hat\", mu_hat_2, \"sigma_hat\", sigma_hat_2)\n",
    "print(\"Log-likelihood: \", log_lik_trnorm2(r, k, alpha_hat_2, rho_hat_2, mu_hat_2, sigma_hat_2))"
   ]
  },
  {
   "cell_type": "code",
   "execution_count": null,
   "metadata": {
    "collapsed": true
   },
   "outputs": [],
   "source": []
  }
 ],
 "metadata": {
  "kernelspec": {
   "display_name": "Python 3",
   "language": "python",
   "name": "python3"
  },
  "language_info": {
   "codemirror_mode": {
    "name": "ipython",
    "version": 3
   },
   "file_extension": ".py",
   "mimetype": "text/x-python",
   "name": "python",
   "nbconvert_exporter": "python",
   "pygments_lexer": "ipython3",
   "version": "3.6.1"
  }
 },
 "nbformat": 4,
 "nbformat_minor": 2
}
