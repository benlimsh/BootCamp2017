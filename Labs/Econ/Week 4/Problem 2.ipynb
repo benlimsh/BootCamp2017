{
 "cells": [
  {
   "cell_type": "markdown",
   "metadata": {},
   "source": [
    "# Problem 2a"
   ]
  },
  {
   "cell_type": "code",
   "execution_count": 1,
   "metadata": {
    "collapsed": true
   },
   "outputs": [],
   "source": [
    "import numpy as np\n",
    "import pandas as pd\n",
    "from pandas import DataFrame, Series\n",
    "from matplotlib import pyplot as plt\n",
    "import scipy.stats as sts\n",
    "\n",
    "macro = np.loadtxt(\"/Users/benjaminlim/Documents/BootCamp2017/Labs/Econ/Week 4/MacroSeries.txt\", delimiter = \",\")\n",
    "w = macro[:, 2]\n",
    "k = macro[:, 1]\n",
    "r = macro[:, 3]"
   ]
  },
  {
   "cell_type": "code",
   "execution_count": 2,
   "metadata": {},
   "outputs": [
    {
     "data": {
      "text/plain": [
       "array([  3.61868860e-15,   2.62312865e-01,   3.42320190e-01,\n",
       "         3.10295515e-01,   2.74262283e-01,   2.90645432e-01,\n",
       "         2.83607774e-01,   2.84311728e-01,   2.99749884e-01,\n",
       "         2.65523158e-01,   2.89317113e-01,   2.99168119e-01,\n",
       "         2.58415731e-01,   2.49368026e-01,   3.29621460e-01,\n",
       "         2.96741214e-01,   2.75846469e-01,   3.07237024e-01,\n",
       "         3.29612323e-01,   2.52257107e-01,   3.02784681e-01,\n",
       "         3.09485783e-01,   3.10963075e-01,   2.71528149e-01,\n",
       "         2.82985381e-01,   3.09992451e-01,   3.06671195e-01,\n",
       "         2.57262941e-01,   2.82894993e-01,   3.00119631e-01,\n",
       "         2.78175622e-01,   2.66809713e-01,   2.73186338e-01,\n",
       "         2.98267163e-01,   2.19502194e-01,   2.59263205e-01,\n",
       "         2.97887126e-01,   2.68461433e-01,   2.91129546e-01,\n",
       "         3.39323563e-01,   3.14780275e-01,   3.06447097e-01,\n",
       "         2.80710920e-01,   3.07412843e-01,   2.89337955e-01,\n",
       "         2.75061823e-01,   2.88941342e-01,   3.10624312e-01,\n",
       "         2.84043962e-01,   2.84185830e-01,   2.78559531e-01,\n",
       "         3.18018099e-01,   3.12485025e-01,   2.93717586e-01,\n",
       "         2.76100086e-01,   2.79005412e-01,   2.84132517e-01,\n",
       "         2.65928136e-01,   2.96299819e-01,   3.09792111e-01,\n",
       "         2.81375748e-01,   2.88225647e-01,   2.78789658e-01,\n",
       "         2.67646227e-01,   2.99895186e-01,   2.55266175e-01,\n",
       "         2.80410612e-01,   3.03801667e-01,   3.09110152e-01,\n",
       "         3.17753354e-01,   2.61448126e-01,   2.91278824e-01,\n",
       "         2.55101896e-01,   2.86401645e-01,   2.98362356e-01,\n",
       "         3.17243865e-01,   2.97233545e-01,   3.09120683e-01,\n",
       "         2.69827738e-01,   2.82467424e-01,   2.94437708e-01,\n",
       "         2.69606774e-01,   3.10579171e-01,   2.62699063e-01,\n",
       "         2.88594363e-01,   2.67589451e-01,   2.79059431e-01,\n",
       "         2.68794292e-01,   3.24240742e-01,   2.82245626e-01,\n",
       "         2.96751153e-01,   2.88104808e-01,   2.60891415e-01,\n",
       "         2.83964838e-01,   3.00506883e-01,   2.78955417e-01,\n",
       "         2.34172653e-01,   3.07049667e-01,   3.01873199e-01,\n",
       "         2.76957802e-01])"
      ]
     },
     "execution_count": 2,
     "metadata": {},
     "output_type": "execute_result"
    }
   ],
   "source": [
    "#normal pdf for random variable z\n",
    "def truncnorm_pdf(w, k, alpha, rho, mu, sigma):\n",
    "    z = np.log(w/((k**alpha)*(1-alpha)))\n",
    "    zprime = np.append([mu],z)\n",
    "    zprime = zprime[:-1]\n",
    "\n",
    "    mean = rho*zprime + (1-rho)*mu\n",
    "    pdf_vals = sts.norm.pdf(z, loc = mean, scale = sigma)\n",
    "    \n",
    "    return pdf_vals\n",
    "\n",
    "truncnorm_pdf(w, k, 0.35, 0.9, 3, 1)"
   ]
  },
  {
   "cell_type": "code",
   "execution_count": 6,
   "metadata": {},
   "outputs": [
    {
     "name": "stdout",
     "output_type": "stream",
     "text": [
      "alpha_hat:  0.457506737794 rho_hat:  0.720497905433 mu_hat 9.5228554852 sigma_hat 0.091996266099\n",
      "Log-likelihood:  96.7069080597\n",
      "[[  2.31592945e+02  -1.51938600e+02  -3.29755420e+03  -4.10580302e+00]\n",
      " [ -1.51938600e+02   1.00074072e+02   2.16261055e+03   2.65153315e+00]\n",
      " [ -3.29755420e+03   2.16261055e+03   4.69540730e+04   5.85476279e+01]\n",
      " [ -4.10580302e+00   2.65153315e+00   5.85476279e+01   7.76066951e-02]]\n",
      "      fun: -96.706908059741281\n",
      " hess_inv: <4x4 LbfgsInvHessProduct with dtype=float64>\n",
      "      jac: array([ 0.0278817 ,  0.00030695,  0.00198526,  0.00082565])\n",
      "  message: b'CONVERGENCE: REL_REDUCTION_OF_F_<=_FACTR*EPSMCH'\n",
      "     nfev: 225\n",
      "      nit: 23\n",
      "   status: 0\n",
      "  success: True\n",
      "        x: array([ 0.45750674,  0.72049791,  9.52285549,  0.09199627])\n"
     ]
    }
   ],
   "source": [
    "def log_lik_trnorm(w, k, alpha, rho, mu, sigma):\n",
    "\n",
    "    pdf_vals = truncnorm_pdf(w, k, alpha, rho, mu, sigma)\n",
    "    pdf_vals[np.isclose(pdf_vals, np.zeros_like(pdf_vals), atol = 1e-25)] = 1e-10\n",
    "    ln_pdf_vals = np.log(pdf_vals)\n",
    "    log_lik_val = ln_pdf_vals.sum()\n",
    "    \n",
    "    return log_lik_val\n",
    "\n",
    "def crit(params, w, k):\n",
    "\n",
    "    alpha, rho, mu, sigma = params\n",
    "    log_lik_val = log_lik_trnorm(w, k, alpha, rho, mu, sigma)\n",
    "    neg_log_lik_val = -log_lik_val\n",
    "    \n",
    "    return neg_log_lik_val\n",
    "\n",
    "import scipy.optimize as opt\n",
    "\n",
    "alpha_init = 0.457\n",
    "rho_init = 0.72\n",
    "mu_init = 9.52\n",
    "sigma_init = 1\n",
    "params_init = np.array([alpha_init, rho_init, mu_init, sigma_init])\n",
    "mle_args = (w, k)\n",
    "results = opt.minimize(crit, params_init, args=(mle_args), method='L-BFGS-B', bounds=((1e-10, 1-1e-10),(1e-10-1, 1-1e-10), (1e-10, None), (1e-10, None)))\n",
    "alpha_hat, rho_hat, mu_hat, sigma_hat = results.x\n",
    "print(\"alpha_hat: \", alpha_hat, \"rho_hat: \", rho_hat, \"mu_hat\", mu_hat, \"sigma_hat\", sigma_hat)\n",
    "mle_hat = log_lik_trnorm(w, k, alpha_hat, rho_hat, mu_hat, sigma_hat)\n",
    "print(\"Log-likelihood: \", mle_hat)\n",
    "vcv1 = results.hess_inv.todense()\n",
    "print(vcv1)\n",
    "print(results)"
   ]
  },
  {
   "cell_type": "markdown",
   "metadata": {},
   "source": [
    "# Problem 2b"
   ]
  },
  {
   "cell_type": "code",
   "execution_count": 7,
   "metadata": {},
   "outputs": [
    {
     "name": "stdout",
     "output_type": "stream",
     "text": [
      "alpha_hat:  0.457500784381 rho_hat:  0.72050253195 mu_hat 9.37057284326 sigma_hat 0.0919961812852\n",
      "Log-likelihood:  96.7069080537\n",
      "[[  4.41070599e+01  -2.45620877e+01  -7.94380670e+02  -5.39378835e-01]\n",
      " [ -2.45620877e+01   1.43114444e+01   4.42560356e+02   2.99590646e-01]\n",
      " [ -7.94380670e+02   4.42560356e+02   1.43070799e+04   9.71414921e+00]\n",
      " [ -5.39378835e-01   2.99590646e-01   9.71414921e+00   6.64512723e-03]]\n"
     ]
    }
   ],
   "source": [
    "#normal pdf for random variable z\n",
    "\n",
    "def truncnorm_pdf2(r, k, alpha, rho, mu, sigma):\n",
    "    denom = alpha * (k ** (alpha - 1))\n",
    "    z = np.log(r / denom)    \n",
    "    zprime = np.append([mu],z)\n",
    "    zprime = zprime[:-1]\n",
    "\n",
    "    mean = rho*zprime + (1-rho)*mu\n",
    "    pdf_vals = (1/(sigma * np.sqrt(2 * np.pi)) *\n",
    "                    np.exp( - (z - mean)**2 / (2 * sigma**2)))\n",
    "    pdf_vals[np.isclose(pdf_vals, np.zeros_like(pdf_vals), atol = 1e-25)] = 1e-10    \n",
    "    return pdf_vals\n",
    "\n",
    "def log_lik_trnorm2(r, k, alpha, rho, mu, sigma):\n",
    "    pdf_vals = truncnorm_pdf2(r, k, alpha, rho, mu, sigma)\n",
    "    pdf_vals[np.isclose(pdf_vals, np.zeros_like(pdf_vals), atol = 1e-25)] = 1e-10   \n",
    "    ln_pdf_vals =   np.log(pdf_vals, where=(pdf_vals>0))\n",
    "    log_lik_val = ln_pdf_vals.sum()\n",
    "    \n",
    "    return log_lik_val\n",
    "\n",
    "def crit2(params, *args):\n",
    "    alpha, rho, mu, sigma = params\n",
    "    r, k = args\n",
    "    log_lik_val = log_lik_trnorm2(r, k, alpha, rho, mu, sigma)\n",
    "    return -log_lik_val\n",
    "\n",
    "alpha_init = 0.5\n",
    "rho_init = 0.9\n",
    "mu_init = 5\n",
    "sigma_init = 1\n",
    "params_init = np.array([alpha_init, rho_init, mu_init, sigma_init])\n",
    "mle_args_2 = (r, k)\n",
    "results2 = opt.minimize(crit2, params_init, args=(mle_args_2), method='L-BFGS-B',\n",
    "                       bounds=((1e-10, 1-1e-10),(1e-10-1, 1-1e-10),\n",
    "                               (1e-10, None), (1e-10, None)))\n",
    "\n",
    "alpha_hat_2, rho_hat_2, mu_hat_2, sigma_hat_2 = results2.x\n",
    "print(\"alpha_hat: \", alpha_hat_2, \"rho_hat: \", rho_hat_2, \"mu_hat\", mu_hat_2, \"sigma_hat\", sigma_hat_2)\n",
    "print(\"Log-likelihood: \", log_lik_trnorm2(r, k, alpha_hat_2, rho_hat_2, mu_hat_2, sigma_hat_2))\n",
    "vcv2 = results2.hess_inv.todense()\n",
    "print(vcv2)\n"
   ]
  },
  {
   "cell_type": "markdown",
   "metadata": {},
   "source": [
    "# Problem 2c"
   ]
  },
  {
   "cell_type": "code",
   "execution_count": 11,
   "metadata": {},
   "outputs": [
    {
     "name": "stdout",
     "output_type": "stream",
     "text": [
      "Probability that interest rate is greater than 1 =  0.999999967117\n"
     ]
    }
   ],
   "source": [
    "zstar = np.log(1/(alpha_hat*(7500000**(alpha_hat-1))))\n",
    "\n",
    "prob = 1 - sts.norm.cdf(zstar, 10*rho_hat + (1 - rho_hat)*mu_hat, sigma_hat )\n",
    "print(\"Probability that interest rate is greater than 1 = \", prob)"
   ]
  }
 ],
 "metadata": {
  "kernelspec": {
   "display_name": "Python 3",
   "language": "python",
   "name": "python3"
  },
  "language_info": {
   "codemirror_mode": {
    "name": "ipython",
    "version": 3
   },
   "file_extension": ".py",
   "mimetype": "text/x-python",
   "name": "python",
   "nbconvert_exporter": "python",
   "pygments_lexer": "ipython3",
   "version": "3.6.1"
  }
 },
 "nbformat": 4,
 "nbformat_minor": 2
}
