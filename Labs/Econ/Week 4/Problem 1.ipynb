{
 "cells": [
  {
   "cell_type": "markdown",
   "metadata": {},
   "source": [
    "# Problem 1a"
   ]
  },
  {
   "cell_type": "markdown",
   "metadata": {},
   "source": [
    "We would prefer the second histogram because it more accurately depicts the variation in the data, whereas the first histogram's scaling is distorted by outliers in the far right of the distribution."
   ]
  },
  {
   "cell_type": "code",
   "execution_count": 3,
   "metadata": {
    "scrolled": true
   },
   "outputs": [
    {
     "name": "stdout",
     "output_type": "stream",
     "text": [
      "\n",
      "Mean: 720.2779753272437\n",
      "Median: 172.21\n",
      "Maximum: 227967.25\n",
      "Minimum: 0.01\n",
      "Std Dev: 3972.663756393663\n",
      "\n",
      "\n"
     ]
    },
    {
     "data": {
      "image/png": "[encoded data removed]",
      "text/plain": [
       "<matplotlib.figure.Figure at 0x117adc2b0>"
      ]
     },
     "metadata": {},
     "output_type": "display_data"
    },
    {
     "data": {
      "image/png": "[encoded data removed]",
      "text/plain": [
       "<matplotlib.figure.Figure at 0x10d75f518>"
      ]
     },
     "metadata": {},
     "output_type": "display_data"
    }
   ],
   "source": [
    "import numpy as np\n",
    "import pandas as pd\n",
    "from pandas import DataFrame, Series\n",
    "from matplotlib import pyplot as plt\n",
    "\n",
    "\n",
    "clms = np.loadtxt(\"clms.txt\")\n",
    "clms = clms.reshape(len(clms),1)\n",
    "mean = np.mean(clms)\n",
    "median = np.median(clms)\n",
    "maximum = np.max(clms)\n",
    "minimum = np.min(clms)\n",
    "sd = np.std(clms)\n",
    "\n",
    "\n",
    "desc = '''\n",
    "Mean: {0}\n",
    "Median: {1}\n",
    "Maximum: {2}\n",
    "Minimum: {3}\n",
    "Std Dev: {4}\n",
    "\n",
    "'''\n",
    "\n",
    "print (desc.format(mean, median, maximum, minimum, sd))\n",
    "\n",
    "num_bins = 1000\n",
    "weights = (1 / clms.shape[0]) * np.ones_like(clms)\n",
    "n, bin_cuts, patches = plt.hist(clms, num_bins, weights=weights)\n",
    "plt.title('Histogram of Health Expenditures', fontsize=17)\n",
    "plt.xlabel(r'Value of Monthly Health Expenditures')\n",
    "plt.ylabel(r'Percent of observations in bin')\n",
    "plt.gca().axes.get_xaxis().set_ticks([])\n",
    "\n",
    "plt.show()\n",
    "\n",
    "num_bins2 = 100\n",
    "clms2 = clms[clms <= 800]\n",
    "weights2 = (1 / clms.shape[0]) * np.ones_like(clms2)\n",
    "n2, bin_cuts2, patches2 = plt.hist(clms2, num_bins2, weights=weights2, edgecolor = \"black\")\n",
    "plt.title('Histogram of Health Expenditures', fontsize=17)\n",
    "plt.xlabel(r'Value of Monthly Health Expenditures')\n",
    "plt.ylabel(r'Percent of observations in bin')\n",
    "plt.gca().axes.get_xaxis().set_ticks([])    \n",
    "plt.tight_layout()\n",
    "\n",
    "plt.show()\n",
    "\n",
    "\n",
    "\n",
    "\n"
   ]
  },
  {
   "cell_type": "markdown",
   "metadata": {},
   "source": [
    "# Problem 1b\n"
   ]
  },
  {
   "cell_type": "code",
   "execution_count": 28,
   "metadata": {},
   "outputs": [
    {
     "name": "stdout",
     "output_type": "stream",
     "text": [
      "0.0328727966942 21911.0647028\n"
     ]
    },
    {
     "data": {
      "text/plain": [
       "12.686769885177878"
      ]
     },
     "execution_count": 28,
     "metadata": {},
     "output_type": "execute_result"
    }
   ],
   "source": [
    "# Define function that generates values of a potentially trucated gamma\n",
    "# probability density function (PDF)\n",
    "\n",
    "from scipy import special\n",
    "\n",
    "def truncgamma_pdf(xvals, alpha, beta):\n",
    "    \n",
    "    pdf_vals = (1/((beta**alpha)*special.gamma(alpha)))*(xvals**(alpha-1))*np.exp(-xvals/beta)\n",
    "    return pdf_vals\n",
    "\n",
    "beta_s = (np.var(clms))/np.mean(clms)\n",
    "alpha_s = np.mean(clms)/beta_s\n",
    "print(alpha_s, beta_s)\n",
    "truncgamma_pdf(clms, alpha_s, beta_s).sum()"
   ]
  },
  {
   "cell_type": "code",
   "execution_count": 29,
   "metadata": {},
   "outputs": [
    {
     "data": {
      "text/plain": [
       "-93555.393903452175"
      ]
     },
     "execution_count": 29,
     "metadata": {},
     "output_type": "execute_result"
    }
   ],
   "source": [
    "# Define log likelihood function for the gamma distribution\n",
    "def log_lik_trgamma(xvals, alpha, beta):\n",
    " \n",
    "    pdf_vals = truncgamma_pdf(xvals, alpha, beta)\n",
    "    ln_pdf_vals = np.log(pdf_vals)\n",
    "    log_lik_val = ln_pdf_vals.sum()\n",
    "    \n",
    "    return log_lik_val\n",
    "\n",
    "log_lik_trgamma(clms, alpha_s , beta_s)"
   ]
  },
  {
   "cell_type": "code",
   "execution_count": 30,
   "metadata": {},
   "outputs": [
    {
     "data": {
      "text/plain": [
       "93555.393903452175"
      ]
     },
     "execution_count": 30,
     "metadata": {},
     "output_type": "execute_result"
    }
   ],
   "source": [
    "def crit(params, xvals):\n",
    "  \n",
    "    alpha, beta = params\n",
    "    #xvals = args\n",
    "    log_lik_val = log_lik_trgamma(xvals, alpha, beta)\n",
    "    neg_log_lik_val = -log_lik_val\n",
    "    \n",
    "    return neg_log_lik_val\n",
    "\n",
    "params = np.array([alpha_s, beta_s])\n",
    "crit(params, clms)"
   ]
  },
  {
   "cell_type": "code",
   "execution_count": 67,
   "metadata": {
    "scrolled": true
   },
   "outputs": [
    {
     "name": "stdout",
     "output_type": "stream",
     "text": [
      "      fun: 82076.451605662558\n",
      " hess_inv: <2x2 LbfgsInvHessProduct with dtype=float64>\n",
      "      jac: array([ 0.        ,  0.09022187])\n",
      "  message: b'CONVERGENCE: REL_REDUCTION_OF_F_<=_FACTR*EPSMCH'\n",
      "     nfev: 33\n",
      "      nit: 8\n",
      "   status: 0\n",
      "  success: True\n",
      "        x: array([  2.21755323e-01,   2.19110647e+04])\n",
      "alpha_MLE= 0.221755322727  beta_MLE= 21911.0646992\n"
     ]
    },
    {
     "name": "stderr",
     "output_type": "stream",
     "text": [
      "/Users/benjaminlim/anaconda/lib/python3.6/site-packages/ipykernel_launcher.py:8: RuntimeWarning: divide by zero encountered in power\n",
      "  \n"
     ]
    },
    {
     "data": {
      "image/png": "[encoded data removed]",
      "text/plain": [
       "<matplotlib.figure.Figure at 0x11da2f710>"
      ]
     },
     "metadata": {},
     "output_type": "display_data"
    },
    {
     "name": "stdout",
     "output_type": "stream",
     "text": [
      "MLE log-likelihood:  -82076.4516057\n"
     ]
    }
   ],
   "source": [
    "import scipy.optimize as opt\n",
    "beta_init = (np.var(clms))/np.mean(clms)\n",
    "alpha_init = np.mean(clms)/beta_init\n",
    "params_init = np.array([alpha_init, beta_init])\n",
    "mle_args = (clms)\n",
    "results = opt.minimize(crit, params_init, args=(mle_args), method='L-BFGS-B',\n",
    "                       bounds=((1e-10, None), (1e-10, None)))\n",
    "print(results)\n",
    "alpha_MLE, beta_MLE = results.x\n",
    "print('alpha_MLE=', alpha_MLE, ' beta_MLE=', beta_MLE)\n",
    "results\n",
    "\n",
    "num_bins2 = 100\n",
    "clms2 = clms[clms <= 800]\n",
    "weights2 = (1 / clms.shape[0]) * np.ones_like(clms2)\n",
    "n2, bin_cuts2, patches2 = plt.hist(clms2, num_bins2, normed = True, edgecolor = \"black\")\n",
    "\n",
    "dist_pts = np.linspace(0, 800, 1000)\n",
    "\n",
    "plt.plot(dist_pts, truncgamma_pdf(dist_pts, alpha_MLE, beta_MLE),\n",
    "         linewidth=2, color='r', label='3: $\\mu$=622,$\\sigma$=199')\n",
    "\n",
    "plt.title('Histogram of Health Expenditures', fontsize=17)\n",
    "plt.xlabel(r'Value of Monthly Health Expenditures')\n",
    "plt.ylabel(r'Percent of observations in bin')\n",
    "plt.ylim((0, 0.006))\n",
    "plt.gca().axes.get_xaxis().set_ticks([])    \n",
    "plt.tight_layout()\n",
    "\n",
    "plt.show()\n",
    "\n",
    "print('MLE log-likelihood: ', log_lik_trgamma(clms, alpha_MLE, beta_MLE))\n",
    "\n",
    "\n"
   ]
  },
  {
   "cell_type": "markdown",
   "metadata": {
    "collapsed": true
   },
   "source": [
    "# Problem 1c"
   ]
  },
  {
   "cell_type": "code",
   "execution_count": 42,
   "metadata": {},
   "outputs": [
    {
     "data": {
      "text/plain": [
       "True"
      ]
     },
     "execution_count": 42,
     "metadata": {},
     "output_type": "execute_result"
    }
   ],
   "source": [
    "all(i > 0 for i in clms)"
   ]
  },
  {
   "cell_type": "code",
   "execution_count": 66,
   "metadata": {},
   "outputs": [
    {
     "name": "stdout",
     "output_type": "stream",
     "text": [
      "      fun: 82076.446790851536\n",
      " hess_inv: <3x3 LbfgsInvHessProduct with dtype=float64>\n",
      "      jac: array([-3.65544111,  0.09022187, -1.04482751])\n",
      "  message: b'CONVERGENCE: REL_REDUCTION_OF_F_<=_FACTR*EPSMCH'\n",
      "     nfev: 24\n",
      "      nit: 2\n",
      "   status: 0\n",
      "  success: True\n",
      "        x: array([  2.21737618e-01,   2.19110644e+04,   9.97091564e-01])\n",
      "alpha_MLE_gg= 0.221737617595  beta_MLE_gg= 21911.0644318  m_MLE_gg= 0.997091563777\n"
     ]
    },
    {
     "name": "stderr",
     "output_type": "stream",
     "text": [
      "/Users/benjaminlim/anaconda/lib/python3.6/site-packages/ipykernel_launcher.py:3: RuntimeWarning: divide by zero encountered in power\n",
      "  This is separate from the ipykernel package so we can avoid doing imports until\n"
     ]
    },
    {
     "data": {
      "image/png": "[encoded data removed]",
      "text/plain": [
       "<matplotlib.figure.Figure at 0x11d715c88>"
      ]
     },
     "metadata": {},
     "output_type": "display_data"
    },
    {
     "name": "stdout",
     "output_type": "stream",
     "text": [
      "MLE log-likelihood:  -82076.4467865\n"
     ]
    }
   ],
   "source": [
    "def gengamma_pdf(xvals, alpha, beta, m):\n",
    "    \n",
    "    pdf_vals = (m/((beta**alpha)*special.gamma(alpha/m)))*(xvals**(alpha-1))*(np.exp(-(xvals/beta)**m))\n",
    "    return pdf_vals\n",
    "\n",
    "# Define log likelihood function for the gen gamma distribution\n",
    "def log_lik_gengamma(xvals, alpha, beta, m):\n",
    " \n",
    "    pdf_vals = gengamma_pdf(xvals, alpha, beta, m)\n",
    "    ln_pdf_vals = np.log(pdf_vals)\n",
    "    log_lik_val = ln_pdf_vals.sum()\n",
    "    \n",
    "    return log_lik_val\n",
    "\n",
    "def crit_gg(params, xvals):\n",
    "  \n",
    "    alpha, beta, m = params\n",
    "    log_lik_val = log_lik_gengamma(xvals, alpha, beta, m)\n",
    "    neg_log_lik_val = -log_lik_val\n",
    "    \n",
    "    return neg_log_lik_val\n",
    "\n",
    "m_init = 1\n",
    "beta_init_gg = beta_MLE\n",
    "alpha_init_gg = alpha_MLE\n",
    "params_init = np.array([alpha_init_gg, beta_init_gg, m_init])\n",
    "mle_args = (clms)\n",
    "results = opt.minimize(crit_gg, params_init, args=(mle_args), method='L-BFGS-B',\n",
    "                       bounds=((1e-10, None), (1e-10, None), (1e-10, None)))\n",
    "print(results)\n",
    "alpha_MLE_gg, beta_MLE_gg, m_MLE_gg = results.x\n",
    "print('alpha_MLE_gg=', alpha_MLE_gg, ' beta_MLE_gg=', beta_MLE_gg, ' m_MLE_gg=', m_MLE_gg)\n",
    "results\n",
    "\n",
    "num_bins2 = 100\n",
    "clms2 = clms[clms <= 800]\n",
    "weights2 = (1 / clms.shape[0]) * np.ones_like(clms2)\n",
    "n2, bin_cuts2, patches2 = plt.hist(clms2, num_bins2, normed = True, edgecolor = \"black\")\n",
    "\n",
    "dist_pts = np.linspace(0, 800, 1000)\n",
    "\n",
    "plt.plot(dist_pts, gengamma_pdf(dist_pts, alpha_MLE_gg, beta_MLE_gg, m_MLE_gg),\n",
    "         linewidth=2, color='r', label='3: $\\mu$=622,$\\sigma$=199')\n",
    "\n",
    "plt.title('Histogram of Health Expenditures', fontsize=17)\n",
    "plt.xlabel(r'Value of Monthly Health Expenditures')\n",
    "plt.ylabel(r'Percent of observations in bin')\n",
    "plt.ylim((0, 0.006))\n",
    "plt.gca().axes.get_xaxis().set_ticks([])    \n",
    "plt.tight_layout()\n",
    "\n",
    "plt.show()\n",
    "\n",
    "print('MLE log-likelihood: ', log_lik_gengamma(clms, alpha_MLE, beta_MLE, m_MLE_gg))"
   ]
  },
  {
   "cell_type": "markdown",
   "metadata": {},
   "source": [
    "# Problem 1d"
   ]
  },
  {
   "cell_type": "code",
   "execution_count": 68,
   "metadata": {},
   "outputs": [
    {
     "name": "stdout",
     "output_type": "stream",
     "text": [
      "      fun: 76460.096045756887\n",
      " hess_inv: <4x4 LbfgsInvHessProduct with dtype=float64>\n",
      "      jac: array([ 11.56004146,   0.        ,  10.78296918,   1.09721441])\n",
      "  message: b'CONVERGENCE: REL_REDUCTION_OF_F_<=_FACTR*EPSMCH'\n",
      "     nfev: 130\n",
      "      nit: 12\n",
      "   status: 0\n",
      "  success: True\n",
      "        x: array([  6.99172363e-01,   2.25077020e+08,   9.96061454e-01,\n",
      "         1.00018936e+04])\n",
      "a_MLE_gb2= 0.699172363143  b_MLE_gb2= 225077019.503  p_MLE_gb2= 0.996061454057  q_MLE_gb2= 10001.8935816\n"
     ]
    },
    {
     "name": "stderr",
     "output_type": "stream",
     "text": [
      "/Users/benjaminlim/anaconda/lib/python3.6/site-packages/ipykernel_launcher.py:3: RuntimeWarning: divide by zero encountered in power\n",
      "  This is separate from the ipykernel package so we can avoid doing imports until\n"
     ]
    },
    {
     "data": {
      "image/png": "[encoded data removed]",
      "text/plain": [
       "<matplotlib.figure.Figure at 0x11da2fd30>"
      ]
     },
     "metadata": {},
     "output_type": "display_data"
    },
    {
     "name": "stdout",
     "output_type": "stream",
     "text": [
      "MLE log-likelihood:  -76460.0960458\n"
     ]
    }
   ],
   "source": [
    "def gb2_pdf(xvals, a, b, p, q):\n",
    "    \n",
    "    pdf_vals = (a*(xvals**(a*p-1)))/(b**(a*p) * special.beta(p,q)*((1+(xvals/b)**a)**(p+q)))\n",
    "    return pdf_vals\n",
    "\n",
    "# Define log likelihood function for the gen gamma distribution\n",
    "def log_lik_gb2(xvals, a, b, p, q):\n",
    " \n",
    "    pdf_vals = gb2_pdf(xvals, a, b, p, q)\n",
    "    ln_pdf_vals = np.log(pdf_vals)\n",
    "    log_lik_val = ln_pdf_vals.sum()\n",
    "    \n",
    "    return log_lik_val\n",
    "\n",
    "def crit_gb2(params, xvals):\n",
    "  \n",
    "    a, b, p, q = params\n",
    "    log_lik_val = log_lik_gb2(xvals, a, b, p, q)\n",
    "    neg_log_lik_val = -log_lik_val\n",
    "    \n",
    "    return neg_log_lik_val\n",
    "\n",
    "a_init = m_MLE_gg\n",
    "q_init = 10000\n",
    "b_init = (q_init**(1/m_MLE_gg))*beta_MLE_gg\n",
    "p_init = alpha_MLE_gg/m_MLE_gg \n",
    "\n",
    "params_init = np.array([a_init, b_init, p_init, q_init])\n",
    "mle_args = (clms)\n",
    "results = opt.minimize(crit_gb2, params_init, args=(mle_args), method='L-BFGS-B',\n",
    "                       bounds=((1e-10, None), (1e-10, None), (1e-10, None), (1e-10, None)))\n",
    "print(results)\n",
    "a_MLE_gb2, b_MLE_gb2, p_MLE_gb2, q_MLE_gb2 = results.x\n",
    "print('a_MLE_gb2=', a_MLE_gb2, ' b_MLE_gb2=', b_MLE_gb2, ' p_MLE_gb2=', p_MLE_gb2, ' q_MLE_gb2=', q_MLE_gb2)\n",
    "results\n",
    "\n",
    "num_bins2 = 100\n",
    "clms2 = clms[clms <= 800]\n",
    "weights2 = (1 / clms.shape[0]) * np.ones_like(clms2)\n",
    "n2, bin_cuts2, patches2 = plt.hist(clms2, num_bins2, normed = True, edgecolor = \"black\")\n",
    "\n",
    "dist_pts = np.linspace(0, 800, 1000)\n",
    "\n",
    "plt.plot(dist_pts, gb2_pdf(dist_pts, a_MLE_gb2, b_MLE_gb2, p_MLE_gb2, q_MLE_gb2),\n",
    "         linewidth=2, color='r', label='3: $\\mu$=622,$\\sigma$=199')\n",
    "\n",
    "plt.title('Histogram of Health Expenditures', fontsize=17)\n",
    "plt.xlabel(r'Value of Monthly Health Expenditures')\n",
    "plt.ylabel(r'Percent of observations in bin')\n",
    "plt.ylim((0, 0.006))\n",
    "plt.gca().axes.get_xaxis().set_ticks([])    \n",
    "plt.tight_layout()\n",
    "\n",
    "plt.show()\n",
    "\n",
    "print('MLE log-likelihood: ', log_lik_gb2(clms, a_MLE_gb2, b_MLE_gb2, p_MLE_gb2, q_MLE_gb2))"
   ]
  },
  {
   "cell_type": "markdown",
   "metadata": {},
   "source": [
    "# Problem 1e"
   ]
  },
  {
   "cell_type": "code",
   "execution_count": 73,
   "metadata": {},
   "outputs": [
    {
     "name": "stdout",
     "output_type": "stream",
     "text": [
      "-82076.4516057 -76460.0960458\n",
      "chi squared of H0_1b with 4 degrees of freedom p-value =  0.0\n",
      "-82076.4467865 -76460.0960458\n",
      "chi squared of H0_1c with 4 degrees of freedom p-value =  0.0\n"
     ]
    }
   ],
   "source": [
    "import scipy.stats as sts\n",
    "\n",
    "\n",
    "#LR TEST for 1b)\n",
    "log_lik_1b = log_lik_trgamma(clms, alpha_MLE, beta_MLE)\n",
    "log_lik_1d = log_lik_gb2(clms, a_MLE_gb2, b_MLE_gb2, p_MLE_gb2, q_MLE_gb2)\n",
    "print(log_lik_1b, log_lik_1d)\n",
    "LR_val_1b = 2 * (log_lik_1d - log_lik_1b)\n",
    "pval_h0_1b = 1.0 - sts.chi2.cdf(LR_val_1b, 4)\n",
    "print('chi squared of H0_1b with 4 degrees of freedom p-value = ', pval_h0_1b)\n",
    "\n",
    "#LR TEST for 1c)\n",
    "log_lik_1c = log_lik_gengamma(clms, alpha_MLE, beta_MLE, m_MLE_gg)\n",
    "log_lik_1d = log_lik_gb2(clms, a_MLE_gb2, b_MLE_gb2, p_MLE_gb2, q_MLE_gb2)\n",
    "print(log_lik_1c, log_lik_1d)\n",
    "LR_val_1c = 2 * (log_lik_1d - log_lik_1c)\n",
    "pval_h0_1c = 1.0 - sts.chi2.cdf(LR_val_1c, 4)\n",
    "print('chi squared of H0_1c with 4 degrees of freedom p-value = ', pval_h0_1c)\n"
   ]
  },
  {
   "cell_type": "markdown",
   "metadata": {},
   "source": [
    "# Problem 1f"
   ]
  },
  {
   "cell_type": "code",
   "execution_count": 82,
   "metadata": {},
   "outputs": [
    {
     "name": "stdout",
     "output_type": "stream",
     "text": [
      "Likelihood of getting claim >$1000 under GB2:  0.16253935891635163\n",
      "Likelihood of getting claim >$1000 under GA:  0.4519597444784573\n"
     ]
    }
   ],
   "source": [
    "from scipy.integrate import quad\n",
    "\n",
    "def gb2_integrand(x, a, b, p, q):\n",
    "    \n",
    "    return (a*(x**(a*p-1)))/(b**(a*p) * special.beta(p,q)*((1+(x/b)**a)**(p+q)))\n",
    "\n",
    "def gamma_integrand(x, alpha, beta):\n",
    "    \n",
    "    return (1/((beta**alpha)*special.gamma(alpha)))*(x**(alpha-1))*np.exp(-x/beta)\n",
    "\n",
    "#LIKELIHOOD OF GETTING MONTHLY CLAIM > $1000 UNDER GB2 (1d)\n",
    "pval_1d = quad(gb2_integrand, 0, 1000, args =(a_MLE_gb2, b_MLE_gb2, p_MLE_gb2, q_MLE_gb2))\n",
    "print(\"Likelihood of getting claim >$1000 under GB2: \", 1.0 - pval_1d[0])\n",
    "\n",
    "#LIKELIHOOD OF GETTING MONTHLY CLAIM > $1000 UNDER GA (1b)\n",
    "pval_1b = quad(gamma_integrand, 0, 1000, args = (alpha_MLE, beta_MLE))\n",
    "print(\"Likelihood of getting claim >$1000 under GA: \", 1.0 - pval_1b[0])\n",
    "\n"
   ]
  }
 ],
 "metadata": {
  "kernelspec": {
   "display_name": "Python 3",
   "language": "python",
   "name": "python3"
  },
  "language_info": {
   "codemirror_mode": {
    "name": "ipython",
    "version": 3
   },
   "file_extension": ".py",
   "mimetype": "text/x-python",
   "name": "python",
   "nbconvert_exporter": "python",
   "pygments_lexer": "ipython3",
   "version": "3.6.1"
  }
 },
 "nbformat": 4,
 "nbformat_minor": 2
}
