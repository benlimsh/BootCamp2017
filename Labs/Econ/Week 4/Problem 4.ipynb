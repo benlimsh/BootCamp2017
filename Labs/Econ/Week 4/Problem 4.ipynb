{
 "cells": [
  {
   "cell_type": "code",
   "execution_count": 5,
   "metadata": {
    "collapsed": true
   },
   "outputs": [],
   "source": [
    "import numpy as np\n",
    "import pandas as pd\n",
    "from pandas import DataFrame, Series\n",
    "from matplotlib import pyplot as plt\n",
    "import scipy.stats as sts\n",
    "\n",
    "macro = np.loadtxt(\"/Users/benjaminlim/Documents/BootCamp2017/Labs/Econ/Week 4/MacroSeries.txt\", delimiter = \",\")\n",
    "c = macro[:, 0]\n",
    "w = macro[:, 2]\n",
    "k = macro[:, 1]\n",
    "r = macro[:, 3]"
   ]
  },
  {
   "cell_type": "code",
   "execution_count": 6,
   "metadata": {
    "collapsed": true
   },
   "outputs": [],
   "source": [
    "'''\n",
    "    moment1 = np.zeros((len(z),1))\n",
    "    moment2 = np.zeros((len(z),1))\n",
    "    moment3 = np.zeros((len(z),1))\n",
    "    moment4 = np.zeros((len(z),1))\n",
    "    return moment1, moment2, moment3, moment4\n",
    "\n",
    "\n",
    "'''\n",
    "\n",
    "def data_moments():\n",
    "   \n",
    "    datamom1 = 0\n",
    "    datamom2 = 0\n",
    "    datamom3 = 0\n",
    "    datamom4 = 0\n",
    "    \n",
    "    return datamom1 ,datamom2 ,datamom3 , datamom4 \n",
    "\n",
    "\n",
    "def model_moments(r, c, k, w, alpha, beta, rho, mu):\n",
    "    denom = alpha * (k ** (alpha - 1))\n",
    "    z = np.log(r / denom) \n",
    "    znext = z[1:]\n",
    "    z = z[:-1]\n",
    "    \n",
    "    cnext = c[1:]\n",
    "    c = c[:-1]\n",
    "    knext = k[1:]\n",
    "    k = k[:-1]\n",
    "    wnext = w[1:]\n",
    "    w = w[:-1]\n",
    "    \n",
    "    modelmom1 = np.mean(znext - rho*z - (1-rho)*mu)\n",
    "    modelmom2 = np.mean((znext - rho*z - (1-rho)*mu)*z)\n",
    "    modelmom3 = np.mean(beta*alpha*np.exp(znext)*(knext**(alpha-1))*c/cnext - 1)\n",
    "    modelmom4 = np.mean((beta*alpha*np.exp(znext)*(knext**(alpha-1))*c/cnext - 1)*w)\n",
    "    \n",
    "    return modelmom1, modelmom2, modelmom3, modelmom4\n",
    "\n",
    "def err_vec(r, c, k, w, alpha, beta, rho, mu, simple):\n",
    "    '''\n",
    "    --------------------------------------------------------------------\n",
    "    This function computes the vector of moment errors (in percent\n",
    "    deviation from the data moment vector) for GMM.\n",
    "    --------------------------------------------------------------------\n",
    "    INPUTS:\n",
    "    xvals  = (N,) vector, test scores data\n",
    "    mu     = scalar, mean of the normally distributed random variable\n",
    "    sigma  = scalar > 0, standard deviation of the normally distributed\n",
    "             random variable\n",
    "    cutoff = scalar or string, ='None' if no cutoff is given, otherwise\n",
    "             is scalar upper bound value of distribution. Values above\n",
    "             this value have zero probability\n",
    "    simple = boolean, =True if errors are simple difference, =False if\n",
    "             errors are percent deviation from data moments\n",
    "    \n",
    "    OTHER FUNCTIONS AND FILES CALLED BY THIS FUNCTION:\n",
    "        data_moments()\n",
    "        model_moments()\n",
    "    \n",
    "    OBJECTS CREATED WITHIN FUNCTION:\n",
    "    mean_data  = scalar, mean value of data\n",
    "    var_data   = scalar > 0, variance of data\n",
    "    moms_data  = (2, 1) matrix, column vector of two data moments\n",
    "    mean_model = scalar, mean value from model\n",
    "    var_model  = scalar > 0, variance from model\n",
    "    moms_model = (2, 1) matrix, column vector of two model moments\n",
    "    err_vec    = (2, 1) matrix, column vector of two moment error\n",
    "                 functions\n",
    "    \n",
    "    FILES CREATED BY THIS FUNCTION: None\n",
    "    \n",
    "    RETURNS: err_vec\n",
    "    --------------------------------------------------------------------\n",
    "    '''\n",
    "    datamom1, datamom2, datamom3, datamom4 = data_moments()\n",
    "    moms_data = np.array([[datamom1], [datamom2], [datamom3], [datamom4]])\n",
    "    modelmom1, modelmom2, modelmom3, modelmom4 = model_moments(r, c, k, w, alpha, beta, rho, mu)\n",
    "    moms_model = np.array([[modelmom1], [modelmom2], [modelmom3], [modelmom4]])\n",
    "    if simple:\n",
    "        err_vec = moms_model - moms_data\n",
    "    else:\n",
    "        err_vec = (moms_model - moms_data) / (moms_data)\n",
    "    \n",
    "    return err_vec\n",
    "\n",
    "\n",
    "def criterion(params, *args):\n",
    "    '''\n",
    "    --------------------------------------------------------------------\n",
    "    This function computes the GMM weighted sum of squared moment errors\n",
    "    criterion function value given parameter values and an estimate of\n",
    "    the weighting matrix.\n",
    "    --------------------------------------------------------------------\n",
    "    INPUTS:\n",
    "    params = (2,) vector, ([mu, sigma])\n",
    "    mu     = scalar, mean of the normally distributed random variable\n",
    "    sigma  = scalar > 0, standard deviation of the normally distributed\n",
    "             random variable\n",
    "    args   = length 3 tuple, (xvals, cutoff, W_hat)\n",
    "    xvals  = (N,) vector, values of the truncated normally distributed\n",
    "             random variable\n",
    "    cutoff = scalar or string, ='None' if no cutoff is given, otherwise\n",
    "             is scalar upper bound value of distribution. Values above\n",
    "             this value have zero probability\n",
    "    W_hat  = (R, R) matrix, estimate of optimal weighting matrix\n",
    "    \n",
    "    OTHER FUNCTIONS AND FILES CALLED BY THIS FUNCTION:\n",
    "        norm_pdf()\n",
    "    \n",
    "    OBJECTS CREATED WITHIN FUNCTION:\n",
    "    err        = (2, 1) matrix, column vector of two moment error\n",
    "                 functions\n",
    "    crit_val   = scalar > 0, GMM criterion function value\n",
    "    \n",
    "    FILES CREATED BY THIS FUNCTION: None\n",
    "    \n",
    "    RETURNS: crit_val\n",
    "    --------------------------------------------------------------------\n",
    "    '''\n",
    "    alpha, beta, rho, mu = params\n",
    "    r, c, k, w, W = args\n",
    "    err = err_vec(r, c, k, w, alpha, beta, rho, mu, simple = True)\n",
    "    crit_val = err.T @ W @ err\n",
    "    \n",
    "    return crit_val"
   ]
  },
  {
   "cell_type": "code",
   "execution_count": 25,
   "metadata": {},
   "outputs": [
    {
     "name": "stdout",
     "output_type": "stream",
     "text": [
      "alpha_GMM1= 0.500000000121  beta_GMM1= 0.989999995126  rho_GMM1= 0.200000000024  mu_GMM1= 2.0\n"
     ]
    }
   ],
   "source": [
    "import scipy.optimize as opt\n",
    "\n",
    "alpha_init = 0.5\n",
    "beta_init = 0.5\n",
    "rho_init = 0.2\n",
    "mu_init = 2\n",
    "\n",
    "params_init = np.array([alpha_init, beta_init, rho_init, mu_init])\n",
    "W = np.eye(4)\n",
    "gmm_args = (r, c, k, w, W)\n",
    "results = opt.minimize(criterion, params_init, args=(gmm_args),\n",
    "                       method='L-BFGS-B', bounds=((1e-10, 1-1e-10),(1e-10, 1-1e-10),\n",
    "                               (-1+1e-10, 1-1e-10), (1e-10, None)))\n",
    "alpha_GMM1, beta_GMM1, rho_GMM1, mu_GMM1 = results.x\n",
    "print('alpha_GMM1=', alpha_GMM1, ' beta_GMM1=', beta_GMM1,' rho_GMM1=', rho_GMM1, ' mu_GMM1=', mu_GMM1)"
   ]
  },
  {
   "cell_type": "code",
   "execution_count": 8,
   "metadata": {},
   "outputs": [
    {
     "name": "stdout",
     "output_type": "stream",
     "text": [
      "datamom1 = 0 , datamom2 = 0 , datamom3 = 0 , datamom4 = 0\n",
      "modelmom1 = 0.00097130351417 , modelmom2 = 0.00353188251713 , modelmom3 = -4.8495692501e-09 , modelmom4 = -0.0505104828882\n",
      "Error vector= [  9.71303514e-04   3.53188252e-03  -4.84956925e-09  -5.05104829e-02]\n"
     ]
    },
    {
     "data": {
      "text/plain": [
       "      fun: array([[ 0.00256473]])\n",
       " hess_inv: <4x4 LbfgsInvHessProduct with dtype=float64>\n",
       "      jac: array([ -1.44945373e-01,   4.40361035e+04,  -7.09349246e-05,\n",
       "        -9.00515066e-03])\n",
       "  message: b'CONVERGENCE: REL_REDUCTION_OF_F_<=_FACTR*EPSMCH'\n",
       "     nfev: 190\n",
       "      nit: 24\n",
       "   status: 0\n",
       "  success: True\n",
       "        x: array([  9.41287589e-01,   9.89999995e-01,   1.83358671e-04,\n",
       "         9.99815319e-01])"
      ]
     },
     "execution_count": 8,
     "metadata": {},
     "output_type": "execute_result"
    }
   ],
   "source": [
    "datamom1, datamom2, datamom3, datamom4 = data_moments()\n",
    "modelmom1, modelmom2, modelmom3, modelmom4 = model_moments(r, c, k, w, alpha_GMM1, beta_GMM1, rho_GMM1, mu_GMM1)\n",
    "err1 = err_vec(r, c, k, w, alpha_GMM1, beta_GMM1, rho_GMM1, mu_GMM1, simple = True).reshape(4,)\n",
    "print('datamom1 =', datamom1, ', datamom2 =', datamom2, ', datamom3 =', datamom3,', datamom4 =', datamom4)\n",
    "print('modelmom1 =', modelmom1, ', modelmom2 =', modelmom2, ', modelmom3 =', modelmom3,', modelmom4 =', modelmom4)\n",
    "print('Error vector=', err1)\n",
    "results"
   ]
  }
 ],
 "metadata": {
  "kernelspec": {
   "display_name": "Python 3",
   "language": "python",
   "name": "python3"
  },
  "language_info": {
   "codemirror_mode": {
    "name": "ipython",
    "version": 3
   },
   "file_extension": ".py",
   "mimetype": "text/x-python",
   "name": "python",
   "nbconvert_exporter": "python",
   "pygments_lexer": "ipython3",
   "version": "3.6.1"
  }
 },
 "nbformat": 4,
 "nbformat_minor": 2
}
