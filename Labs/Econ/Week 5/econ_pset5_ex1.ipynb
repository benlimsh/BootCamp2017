{
 "cells": [
  {
   "cell_type": "markdown",
   "metadata": {},
   "source": [
    "# Exercise 5"
   ]
  },
  {
   "cell_type": "code",
   "execution_count": 1,
   "metadata": {
    "scrolled": true
   },
   "outputs": [
    {
     "name": "stdout",
     "output_type": "stream",
     "text": [
      "\n",
      "kbar = 7.28749795058\n",
      "cbar = 0.999999998745\n",
      "wbar = 3.82993180519e-24\n",
      "rbar = 0.121482277121\n",
      "Tbar = 0.85127555077\n",
      "Investment = 7.28749795058\n",
      "Output = 2.21325461391\n",
      "\n"
     ]
    }
   ],
   "source": [
    "import numpy as np\n",
    "from scipy.optimize import fsolve\n",
    "import math\n",
    "\n",
    "gamma = 2.5\n",
    "beta = 0.98\n",
    "alpha = 0.4\n",
    "delta = 0.1\n",
    "z = 0\n",
    "tau = 0.05\n",
    "l = 1\n",
    "\n",
    "def ex5_numerical(p):\n",
    "    \n",
    "    k, c, w, r, T = p\n",
    "    eqn21 = c - (1-tau)*(w + (r-delta)*k) - T\n",
    "    eqn25 = beta*((r-delta)*(1-tau)+1)-1\n",
    "    eqn26 = w*(1-tau)/(c**gamma)\n",
    "    eqn27 = (alpha*(k**(alpha-1))*(np.exp(z))**(1-alpha))-r\n",
    "    eqn28 = w\n",
    "    \n",
    "    return (eqn21, eqn25, eqn26, eqn27, eqn28)\n",
    "\n",
    "k, c, w, r, T = fsolve(ex5_numerical, (1,1,1,1,1))\n",
    "O = (k**alpha)*(l*(np.exp(z)))**(1-alpha)\n",
    "\n",
    "ex5results = '''\n",
    "kbar = %s\n",
    "cbar = %s\n",
    "wbar = %s\n",
    "rbar = %s\n",
    "Tbar = %s\n",
    "Investment = %s\n",
    "Output = %s\n",
    "'''\n",
    "print(ex5results % (k, c, w, r, T, k, O))"
   ]
  },
  {
   "cell_type": "code",
   "execution_count": 8,
   "metadata": {},
   "outputs": [
    {
     "name": "stdout",
     "output_type": "stream",
     "text": [
      "\n",
      "kbar = 4.22522902602\n",
      "cbar = 0.860703206171\n",
      "wbar = 1.32795276816\n",
      "rbar = 0.121482277128\n",
      "Tbar = 0.0430351603085\n",
      "Investment = 4.22522902602\n",
      "Output = 1.28322610877\n",
      "l = 0.579791453194\n",
      "\n"
     ]
    }
   ],
   "source": [
    "gamma6 = 2.5\n",
    "psi6 = 1.5\n",
    "beta6 = 0.98\n",
    "alpha6 = 0.4\n",
    "a6 = 0.5\n",
    "delta6 = 0.1\n",
    "z6 = 0\n",
    "tau6 = 0.05\n",
    "\n",
    "def ex6_numerical(p):\n",
    "    k6, c6, w6, r6, T6, l6 = p\n",
    "    eqn21 = c6 - (1-tau6)*(w6*l6 + (r6-delta6)*k6) - T6\n",
    "    eqn25 = (c6**-gamma6) - beta6*((c6**-gamma6)*((r6-delta6)*(1-tau6)+1))\n",
    "    eqn26 = a6/((1-l6)**psi6) - (c6**-gamma6)*w6*(1-tau6)\n",
    "    eqn27 = alpha6*(k6**(alpha6-1))*((l6*np.exp(z6))**(1-alpha6)) - r6\n",
    "    eqn28 = (1-alpha6)*(k6**alpha6)*((l6*np.exp(z6))**(-alpha6))*np.exp(z6) - w6\n",
    "    eqn29 = tau6*(w6*l6 + (r6-delta6)*k6) - T6\n",
    "    \n",
    "    return (eqn21, eqn25, eqn26, eqn27, eqn28, eqn29)\n",
    "\n",
    "k6, c6, w6, r6, T6, l6 = fsolve(ex6_numerical, (0.5,0.5,0.5,0.5,0.5,0.5))\n",
    "O6 = (k6**alpha6)*(l6*(np.exp(z6)))**(1-alpha6)\n",
    "\n",
    "\n",
    "ex6results = '''\n",
    "kbar = %s\n",
    "cbar = %s\n",
    "wbar = %s\n",
    "rbar = %s\n",
    "Tbar = %s\n",
    "Investment = %s\n",
    "Output = %s\n",
    "l = %s\n",
    "'''\n",
    "print(ex6results % (k6, c6, w6, r6, T6, k6, O6, l6))"
   ]
  },
  {
   "cell_type": "code",
   "execution_count": null,
   "metadata": {
    "collapsed": true
   },
   "outputs": [],
   "source": []
  }
 ],
 "metadata": {
  "kernelspec": {
   "display_name": "Python 3",
   "language": "python",
   "name": "python3"
  },
  "language_info": {
   "codemirror_mode": {
    "name": "ipython",
    "version": 3
   },
   "file_extension": ".py",
   "mimetype": "text/x-python",
   "name": "python",
   "nbconvert_exporter": "python",
   "pygments_lexer": "ipython3",
   "version": "3.6.1"
  }
 },
 "nbformat": 4,
 "nbformat_minor": 2
}
