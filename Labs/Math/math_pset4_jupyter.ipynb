{
 "cells": [
  {
   "cell_type": "code",
   "execution_count": 1,
   "metadata": {},
   "outputs": [
    {
     "name": "stdout",
     "output_type": "stream",
     "text": [
      "Function converged. x =  -0.6703321026904688\n"
     ]
    },
    {
     "data": {
      "text/plain": [
       "-0.6703321026904688"
      ]
     },
     "execution_count": 1,
     "metadata": {},
     "output_type": "execute_result"
    }
   ],
   "source": [
    "import numpy as np\n",
    "\n",
    "def newton(x, eps, fprime, fprimeprime):\n",
    "\n",
    "    iterations = 0\n",
    "    diff = 5\n",
    "    while diff > eps and iterations < 1000:\n",
    "        oldx = np.copy(x)\n",
    "        x = x - fprime(x)/fprimeprime(x)\n",
    "        diff = np.linalg.norm(x - oldx)/np.linalg.norm(oldx)\n",
    "        iterations = iterations + 1\n",
    "        del(oldx)\n",
    "\n",
    "    if diff > eps:\n",
    "        print(\"Function did not converge\")\n",
    "    else:\n",
    "        print(\"Function converged. x = \", x)\n",
    "\n",
    "    return x\n",
    "\n",
    "def fprime(x):\n",
    "    return 6*x**5 + 5*x**4 + 4*x**3 + 3*x**2 + 2*x + 1\n",
    "\n",
    "def fprimeprime(x):\n",
    "    return 5*6*x**4 + 4*5*x**3 + 3*4*x**2 + 2*3*x**1 + 2\n",
    "\n",
    "newton(2, 1e-3, fprime, fprimeprime)\n",
    "\n"
   ]
  },
  {
   "cell_type": "code",
   "execution_count": null,
   "metadata": {
    "collapsed": true
   },
   "outputs": [],
   "source": []
  }
 ],
 "metadata": {
  "kernelspec": {
   "display_name": "Python 3",
   "language": "python",
   "name": "python3"
  },
  "language_info": {
   "codemirror_mode": {
    "name": "ipython",
    "version": 3
   },
   "file_extension": ".py",
   "mimetype": "text/x-python",
   "name": "python",
   "nbconvert_exporter": "python",
   "pygments_lexer": "ipython3",
   "version": "3.6.1"
  }
 },
 "nbformat": 4,
 "nbformat_minor": 2
}
