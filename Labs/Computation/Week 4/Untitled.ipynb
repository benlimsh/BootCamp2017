{
 "cells": [
  {
   "cell_type": "code",
   "execution_count": 33,
   "metadata": {
    "collapsed": true
   },
   "outputs": [],
   "source": [
    "from scipy import sparse\n",
    "import numpy as np\n",
    "\n",
    "# Generate A\n",
    "n = 3\n",
    "B = sparse.diags(np.ones(n)*-4) + sparse.diags(np.ones(n-1), -1) + sparse.diags(np.ones(n-1), 1)\n",
    "diags = []\n",
    "for i in range(n):\n",
    "    diags.append(B)\n",
    "A = sparse.block_diag(diags)\n",
    "A = A + sparse.diags(np.ones(n**2 - n), n) + sparse.diags(np.ones(n**2 - n), -(n))\n",
    "#Generate b\n",
    "b = np.zeros(n)\n",
    "b[0] = -100\n",
    "b[n-1] = -100\n",
    "b = np.tile(b, n)"
   ]
  },
  {
   "cell_type": "code",
   "execution_count": 34,
   "metadata": {},
   "outputs": [
    {
     "name": "stdout",
     "output_type": "stream",
     "text": [
      "[[-4.  1.  0.]\n",
      " [ 1. -4.  1.]\n",
      " [ 0.  1. -4.]]\n",
      "  (0, 0)\t-4.0\n",
      "  (0, 1)\t1.0\n",
      "  (1, 0)\t1.0\n",
      "  (1, 1)\t-4.0\n",
      "  (1, 2)\t1.0\n",
      "  (2, 1)\t1.0\n",
      "  (2, 2)\t-4.0\n"
     ]
    }
   ],
   "source": [
    "print(B.toarray())\n",
    "print(B)"
   ]
  },
  {
   "cell_type": "code",
   "execution_count": 35,
   "metadata": {},
   "outputs": [
    {
     "name": "stdout",
     "output_type": "stream",
     "text": [
      "[[ 0.  1.  0.]\n",
      " [ 0.  0.  1.]\n",
      " [ 0.  0.  0.]]\n"
     ]
    }
   ],
   "source": [
    "print(sparse.diags(np.ones(2),1).toarray())"
   ]
  },
  {
   "cell_type": "code",
   "execution_count": 36,
   "metadata": {},
   "outputs": [
    {
     "name": "stdout",
     "output_type": "stream",
     "text": [
      "[[ 0.  0.  0.  0.  0.  1.  0.  0.  0.  0.]\n",
      " [ 0.  0.  0.  0.  0.  0.  1.  0.  0.  0.]\n",
      " [ 0.  0.  0.  0.  0.  0.  0.  1.  0.  0.]\n",
      " [ 0.  0.  0.  0.  0.  0.  0.  0.  1.  0.]\n",
      " [ 0.  0.  0.  0.  0.  0.  0.  0.  0.  1.]\n",
      " [ 0.  0.  0.  0.  0.  0.  0.  0.  0.  0.]\n",
      " [ 0.  0.  0.  0.  0.  0.  0.  0.  0.  0.]\n",
      " [ 0.  0.  0.  0.  0.  0.  0.  0.  0.  0.]\n",
      " [ 0.  0.  0.  0.  0.  0.  0.  0.  0.  0.]\n",
      " [ 0.  0.  0.  0.  0.  0.  0.  0.  0.  0.]]\n"
     ]
    }
   ],
   "source": [
    "print(sparse.diags(np.ones(5),5).toarray())"
   ]
  },
  {
   "cell_type": "code",
   "execution_count": 37,
   "metadata": {},
   "outputs": [
    {
     "name": "stdout",
     "output_type": "stream",
     "text": [
      "[[-4.  1.  0.  1.  0.  0.  0.  0.  0.]\n",
      " [ 1. -4.  1.  0.  1.  0.  0.  0.  0.]\n",
      " [ 0.  1. -4.  0.  0.  1.  0.  0.  0.]\n",
      " [ 1.  0.  0. -4.  1.  0.  1.  0.  0.]\n",
      " [ 0.  1.  0.  1. -4.  1.  0.  1.  0.]\n",
      " [ 0.  0.  1.  0.  1. -4.  0.  0.  1.]\n",
      " [ 0.  0.  0.  1.  0.  0. -4.  1.  0.]\n",
      " [ 0.  0.  0.  0.  1.  0.  1. -4.  1.]\n",
      " [ 0.  0.  0.  0.  0.  1.  0.  1. -4.]]\n"
     ]
    }
   ],
   "source": [
    "print(A.toarray())"
   ]
  },
  {
   "cell_type": "code",
   "execution_count": null,
   "metadata": {
    "collapsed": true
   },
   "outputs": [],
   "source": [
    "import matplotlib.pyplot as plt\n",
    "import numpy as np\n",
    "\n",
    "def problem6(n, omega, tol = 1e-8, maxiters = 100, plot = False):\n",
    "    B = sparse.diags(np.ones(n)*-4) + sparse.diags(np.ones(n-1), -1) + sparse.diags(np.ones(n-1), 1)\n",
    "    diags = []\n",
    "    for i in range(n):\n",
    "        diags.append(B)\n",
    "    A = sparse.block_diag(diags)\n",
    "    A = A + sparse.diags(np.ones(n**2 - n), n) + sparse.diags(np.ones(n**2 - n), -(n))\n",
    "    b = np.zeros(n)\n",
    "    b[0] = -100\n",
    "    b[n-1] = -100\n",
    "    b = np.tile(b, n)\n",
    "    u = problem5(A, b, omega, tol, maxiters) #replace problem5 with function name to problem 5\n",
    "    \n",
    "    if plot == False:\n",
    "        return u, u[1] #i'm assuming the number of iterations taken is in index 1 of what prob 5 returns\n",
    "    \n",
    "    if plot == True:\n",
    "        umat = u.reshape((n,n))\n",
    "        X = np.arange(1, n+1, 1) \n",
    "        Y = np.arange(1, n+1, 1)\n",
    "        xx, yy = np.meshgrid(X,Y)\n",
    "        plt.pcolormesh(xx, yy, umat, cmap = \"coolwarm\") #if this doesn't work, change xx and yy to X and Y\n",
    "        plt.title(\"Heatmap of Plate's Temperature in Steady State\")\n",
    "        plt.colorbar()\n",
    "        plt.show()\n",
    "        return u, u[1]\n",
    "    "
   ]
  },
  {
   "cell_type": "code",
   "execution_count": 40,
   "metadata": {},
   "outputs": [
    {
     "name": "stdout",
     "output_type": "stream",
     "text": [
      "[1 2 3]\n"
     ]
    }
   ],
   "source": [
    "def problem7():\n",
    "    omegavec = np.arange(1, 2, 0.05)\n",
    "    n = 20\n",
    "    solnvec = np.zeros((len(omegavec),1))\n",
    "    itervec = np.zeros((len(omegavec),1))\n",
    "    for i in range(len(omegavec)):\n",
    "        solnvec[i] = problem6(n, omegavec[i], tol = 1e-2, maxiters = 1000, plot = False)[0]\n",
    "        itervec[i] = problem6(n, omegavec[i], tol = 1e-2, maxiters = 1000, plot = False)[1]\n",
    "    plt.plot(omegavec, itervec)\n",
    "    plt.xlabel(\"Omega\")\n",
    "    plt.ylabel(\"Number of Iterations\")\n",
    "    plt.title(\"Number of Iterations as a Function of Omega\")\n",
    "    plt.show()\n",
    "    a = np.array([1,2,3,4,5,1,6,1]) \n",
    "    minindex = np.argmin(itervec)\n",
    "    \n",
    "    return omegavec[minindex]"
   ]
  },
  {
   "cell_type": "code",
   "execution_count": 42,
   "metadata": {},
   "outputs": [
    {
     "name": "stdout",
     "output_type": "stream",
     "text": [
      "[ 1.    1.05  1.1   1.15  1.2   1.25  1.3   1.35  1.4   1.45  1.5   1.55\n",
      "  1.6   1.65  1.7   1.75  1.8   1.85  1.9   1.95]\n"
     ]
    }
   ],
   "source": [
    "omegavec = np.arange(1, 2, 0.05)\n",
    "print(omegavec)\n"
   ]
  },
  {
   "cell_type": "code",
   "execution_count": null,
   "metadata": {
    "collapsed": true
   },
   "outputs": [],
   "source": []
  }
 ],
 "metadata": {
  "kernelspec": {
   "display_name": "Python 3",
   "language": "python",
   "name": "python3"
  },
  "language_info": {
   "codemirror_mode": {
    "name": "ipython",
    "version": 3
   },
   "file_extension": ".py",
   "mimetype": "text/x-python",
   "name": "python",
   "nbconvert_exporter": "python",
   "pygments_lexer": "ipython3",
   "version": "3.6.1"
  }
 },
 "nbformat": 4,
 "nbformat_minor": 2
}
